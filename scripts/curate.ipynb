{
 "cells": [
  {
   "cell_type": "code",
   "execution_count": 1,
   "metadata": {},
   "outputs": [],
   "source": [
    "%load_ext autoreload\n",
    "%autoreload 2"
   ]
  },
  {
   "cell_type": "code",
   "execution_count": 3,
   "metadata": {},
   "outputs": [],
   "source": [
    "from marked_words import marked_words\n",
    "import pandas as pd"
   ]
  },
  {
   "cell_type": "code",
   "execution_count": 4,
   "metadata": {},
   "outputs": [],
   "source": [
    "df = pd.read_csv('../data/personas_gpt-4_20.csv')"
   ]
  },
  {
   "cell_type": "code",
   "execution_count": 9,
   "metadata": {},
   "outputs": [
    {
     "name": "stdout",
     "output_type": "stream",
     "text": [
      "asian 180\n",
      "black 180\n",
      "middle-eastern 180\n",
      "latino 120\n",
      "latina 60\n"
     ]
    }
   ],
   "source": [
    "personas = dict()\n",
    "\n",
    "for race in ['asian', 'black', 'middle-eastern', 'latino', 'latina']:\n",
    "    filtered = df[df['race'] == race]['text'].tolist()\n",
    "    print(race, len(filtered))\n",
    "    personas[race] = filtered\n",
    "    \n",
    "for gender in ['woman', 'nonbinary person']:\n",
    "    filtered = df[df['gender'] == gender]['text'].tolist()\n",
    "    if gender == 'nonbinary person': gender = 'nonbinary'\n",
    "    personas[gender] = filtered"
   ]
  },
  {
   "cell_type": "code",
   "execution_count": 5,
   "metadata": {},
   "outputs": [
    {
     "name": "stdout",
     "output_type": "stream",
     "text": [
      "asian 1669\n",
      "black 4199\n",
      "middle-eastern 1791\n",
      "latino 4109\n",
      "latina 4006\n"
     ]
    }
   ],
   "source": [
    "marked_race_words = dict()\n",
    "for race in ['asian', 'black', 'middle-eastern', 'latino', 'latina']:\n",
    "    marked = marked_words(df, target_val=[race], target_col=['race'], unmarked_val=['white'])\n",
    "    marked_race_words[race] = marked\n",
    "    print(race, len(marked))"
   ]
  },
  {
   "cell_type": "code",
   "execution_count": 6,
   "metadata": {},
   "outputs": [
    {
     "name": "stdout",
     "output_type": "stream",
     "text": [
      "woman 3695\n",
      "nonbinary person 2049\n"
     ]
    }
   ],
   "source": [
    "marked_gender_words = dict()\n",
    "for gender in ['woman', 'nonbinary person']:\n",
    "    marked = marked_words(df, target_val=[gender], target_col=['gender'], unmarked_val=['man'])\n",
    "    marked_gender_words[gender] = marked\n",
    "    print(gender, len(marked))"
   ]
  },
  {
   "cell_type": "code",
   "execution_count": 10,
   "metadata": {},
   "outputs": [
    {
     "name": "stdout",
     "output_type": "stream",
     "text": [
      "asian woman 1069\n",
      "asian nonbinary person 961\n",
      "black woman 1040\n",
      "black nonbinary person 972\n",
      "middle-eastern woman 1046\n",
      "middle-eastern nonbinary person 1054\n",
      "latino woman 0\n",
      "latino nonbinary person 981\n",
      "latina woman 982\n",
      "latina nonbinary person 0\n"
     ]
    }
   ],
   "source": [
    "marked_race_gender_words = dict()\n",
    "for race in ['asian', 'black', 'middle-eastern', 'latino', 'latina']:\n",
    "    for gender in ['woman', 'nonbinary person']:\n",
    "        marked = marked_words(df, target_val=[gender, race], target_col=['gender', 'race'], unmarked_val=['white', 'man'])\n",
    "        marked_race_gender_words[(race, gender)] = marked \n",
    "        print(race, gender, len(marked))\n",
    "        \n",
    "del marked_race_gender_words[('latino', 'woman')]\n",
    "del marked_race_gender_words[('latina', 'nonbinary person')]"
   ]
  }
 ],
 "metadata": {
  "kernelspec": {
   "display_name": "venv",
   "language": "python",
   "name": "python3"
  },
  "language_info": {
   "codemirror_mode": {
    "name": "ipython",
    "version": 3
   },
   "file_extension": ".py",
   "mimetype": "text/x-python",
   "name": "python",
   "nbconvert_exporter": "python",
   "pygments_lexer": "ipython3",
   "version": "3.12.0"
  }
 },
 "nbformat": 4,
 "nbformat_minor": 2
}
